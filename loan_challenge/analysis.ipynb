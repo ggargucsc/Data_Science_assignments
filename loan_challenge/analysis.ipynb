{
 "cells": [
  {
   "cell_type": "markdown",
   "metadata": {},
   "source": [
    "### 1) Perform any data cleaning and exploratory analysis that you feel is appropriate. Summarize your approach in a few sentences and report some interesting facts about the population in the data."
   ]
  },
  {
   "cell_type": "markdown",
   "metadata": {},
   "source": [
    " **Data Cleaning** <br>\n",
    " **Missing values**: <br>\n",
    "   Removed columns with more than 70% missing values, so the following columns were removed: verification_status_joint and mths_since_last_major_derog. <br>\n",
    "   \n",
    " **Creating new features**: <br>\n",
    "    **emp_length**: Employment length, in its current form, couldn't be used as a feature, so created a new feature by deriving only numerical values<br>\n",
    "    **total_monthly_debt**: Monthly debt is an important factor that may influence loan default, so created this feature by multiplying ratio of dti with monthly income<br>\n",
    "    **age_credit**: The age of credit history is an important factor that may influence loan default, so created this feature by subtracting earliest_cr_line year from apply_year <br>\n",
    "    **log_annual_inc**: annual_inc has an extremly right skewed normal distribution, so used log transformation to convert it to normal distribution. Additionally, this helps in dealing with extreme outliers.<br>\n",
    "    **log_revol_bal**: revol_bal has an extremly right skewed normal distribution, so used log transformation to convert it to normal distribution. Additionally, this helps in dealing with extreme outliers.  <br>\n",
    "    \n",
    "**Data Imputation**: <br>\n",
    "- Used median imputation on numeric predictors like annual_income, age_credit, emp_length as some of them had right skewed normal distribution\n",
    "\n",
    "**Interesting Facts**\n",
    "- 31% of loans associated with small business were defaulted. However, only 14% of loans for cars, education and major purchases were defaulted.\n",
    "- Tennessee and Mississippi had the highest default loan rate of 28%. However, Nebraska and Wyoming had the lowest  default loan rate of 11%. \n",
    "- People who defaulted seems to have lower median annual income than people who paid off their loans.  \n",
    "- People who defaulted have higher mean dti than people who paid off their loans.\n",
    "- 24% of loans that were defaulted had the home ownership of type rental compared to 19% of type home mortages. "
   ]
  },
  {
   "cell_type": "markdown",
   "metadata": {},
   "source": [
    "### 2) Build a predictive model to help us determine who is likely to default if they are extended a loan. Discuss your overall approach, with a focus on data preparation, classifier selection, and model evaluation."
   ]
  },
  {
   "cell_type": "markdown",
   "metadata": {},
   "source": [
    "**Data preparation**: \n",
    "- Numerical features used: log_annual_inc, dti, log_revol_bal, total_monthly_debt, emp_length, age_credit\n",
    "- Categorical features used: home_ownership, verification_status, purpose <br><br>\n",
    "  Categorical features were dummy coded and numerical features were standarized (mean = 0, sd = 1)\n",
    "  \n",
    "**Classifier Selection**\n",
    "Since this is a classification problem, I used classifiers such as -- \n",
    "- Logistic Regression: Used it as a base model\n",
    "- Random Forest: The random forest is an ensemble technique that handles multi-collinearity or correlated features. This model is not sensitive to outliers. \n",
    "- Gradient Boosted Trees: Boosting improves the quality of fit of each base learner, hence in every iteration loss is minimized.  \n",
    "\n",
    "**Model Evaluation** <BR><BR>\n",
    "**Choosing the right metric**: \n",
    "\n",
    "Given that this is an imbalanced class problem (78% not default and only 22% default), accuracy as a metric could be misleading. A classifier can predict majority class, which means that while the accuracy can be high, the classifier is still ineffective. Therefore, I used AUC (area under the curve) as a metric, which measures the model ability of distinguishing between the classes. \n",
    "\n",
    "**Training, Validation and Test data**: \n",
    "\n",
    "I divided 80% of the data to training set and remaining 20% to testing set. Furthermore, on training set, I used 5-Fold Stratified cross-validation where in each fold, model was trained on K-1 fold and tested on the remaining fold; to check the model performance on validation set before applying to test data.\n",
    "\n",
    "**Classifiers and Performance**:\n",
    "\n",
    "- Using Logistic Regression, AUC on training data is 0.63, AUC on validation data is also around 0.63 and AUC on test data is 0.62. The model is clearly underfitting (low AUC on training data). This necessitates the need to collect more expressive features that can help with class separation. <br>\n",
    "- Using Random Forest, AUC on training data is 0.99, AUC on validation data is around 0.58 and AUC on test data is 0.58. The model is overfitting (high AUC on training data but not on validation set), so I used top few features from the feature importance set, but that didn't improve the model. Additionally, I used **resampling techniques like over-sampling and SMOTE** to check if the performance increases by adding more data but that didn't improve the model either. So, one suggestion to the data team could be to collect more features like actual loan amount. This can help the model learn to generalize it to unseen data.\n",
    "- Using Gradient Boosted Trees, AUC on train data is 0.65, AUC on validation data is also around 0.63 and AUC on test data is 0.62. Similar to Logistic Regression, the model is underfitting and necessitates the need to collect more expressive features. \n",
    "\n",
    "**Few suggestions that may improve model performance**: \n",
    "- By using grid search to find optimal parameters can further improve the model performace. \n",
    "- By adding address as a feature can also add to the predictive power of the model. Since there are too many addresses, so addresses can either be divided by regions like West, Southwest, Northeast, Southeast and Midwest to form a categorical region feature. Another way is to create a feature by including only those states that have highest and lowest loan default probability.  \n",
    "- Use a better imputation method than median for null values. Perhaps KNN"
   ]
  },
  {
   "cell_type": "markdown",
   "metadata": {},
   "source": [
    "### 3) Now that you have trained a model, it is time to put it in production (a web app where a customer can apply and get an immediate loan approval or rejection decision). How would you come up with an appropriate cut off that separates those approved and those rejected? We are not necessarily expecting code for this section, just an analytical explanation for how you would solve this problem in a real business setting."
   ]
  },
  {
   "cell_type": "markdown",
   "metadata": {},
   "source": [
    "The cutoff has to be chosen in such a way that a business does not loses potential customers but also maximizes \n",
    "profit, i.e. based on historical data, the model should account for this balance, learn from the new behavior and be reactive to ever changing scenarios. It also depends on the business objectives at a given time. If the business is in a phase of expanding customer base, then the cutoff can be set to lower values such that more loans can be granted. However, if the business strategy is based on pure profit, then cutoff value can be set high to minimize the loss on loan default. Or, if the business wants to finance 20% of new loans, then a cutoff value can be chosen based on 80% quantile in the probability distribution. In summary, Profit/Loss curve can be used in combination with business needs to determine optimal cut-off value.  "
   ]
  },
  {
   "cell_type": "markdown",
   "metadata": {},
   "source": [
    "### Reading Data"
   ]
  },
  {
   "cell_type": "code",
   "execution_count": 57,
   "metadata": {},
   "outputs": [],
   "source": [
    "import pandas as pd\n",
    "import seaborn as sns\n",
    "import matplotlib.pyplot as plt\n",
    "%matplotlib inline"
   ]
  },
  {
   "cell_type": "code",
   "execution_count": 73,
   "metadata": {},
   "outputs": [],
   "source": [
    "# read data\n",
    "data = pd.read_csv('train_data.csv', encoding='latin-1')"
   ]
  },
  {
   "cell_type": "code",
   "execution_count": 121,
   "metadata": {},
   "outputs": [
    {
     "data": {
      "text/plain": [
       "Index(['id', 'loan_status', 'mths_since_last_major_derog', 'revol_bal',\n",
       "       'purpose', 'addr_state', 'title', 'home_ownership', 'application_type',\n",
       "       'verification_status_joint', 'earliest_cr_line', 'apply_date',\n",
       "       'verification_status', 'emp_length', 'dti', 'emp_title', 'annual_inc'],\n",
       "      dtype='object')"
      ]
     },
     "execution_count": 121,
     "metadata": {},
     "output_type": "execute_result"
    }
   ],
   "source": [
    "data.columns"
   ]
  },
  {
   "cell_type": "code",
   "execution_count": 122,
   "metadata": {},
   "outputs": [
    {
     "data": {
      "text/plain": [
       "id                               int64\n",
       "loan_status                     object\n",
       "mths_since_last_major_derog    float64\n",
       "revol_bal                        int64\n",
       "purpose                         object\n",
       "addr_state                      object\n",
       "title                           object\n",
       "home_ownership                  object\n",
       "application_type                object\n",
       "verification_status_joint       object\n",
       "earliest_cr_line                object\n",
       "apply_date                      object\n",
       "verification_status             object\n",
       "emp_length                      object\n",
       "dti                            float64\n",
       "emp_title                       object\n",
       "annual_inc                     float64\n",
       "dtype: object"
      ]
     },
     "execution_count": 122,
     "metadata": {},
     "output_type": "execute_result"
    }
   ],
   "source": [
    "data.dtypes"
   ]
  },
  {
   "cell_type": "code",
   "execution_count": 123,
   "metadata": {},
   "outputs": [
    {
     "data": {
      "text/html": [
       "<div>\n",
       "<style scoped>\n",
       "    .dataframe tbody tr th:only-of-type {\n",
       "        vertical-align: middle;\n",
       "    }\n",
       "\n",
       "    .dataframe tbody tr th {\n",
       "        vertical-align: top;\n",
       "    }\n",
       "\n",
       "    .dataframe thead th {\n",
       "        text-align: right;\n",
       "    }\n",
       "</style>\n",
       "<table border=\"1\" class=\"dataframe\">\n",
       "  <thead>\n",
       "    <tr style=\"text-align: right;\">\n",
       "      <th></th>\n",
       "      <th>id</th>\n",
       "      <th>loan_status</th>\n",
       "      <th>mths_since_last_major_derog</th>\n",
       "      <th>revol_bal</th>\n",
       "      <th>purpose</th>\n",
       "      <th>addr_state</th>\n",
       "      <th>title</th>\n",
       "      <th>home_ownership</th>\n",
       "      <th>application_type</th>\n",
       "      <th>verification_status_joint</th>\n",
       "      <th>earliest_cr_line</th>\n",
       "      <th>apply_date</th>\n",
       "      <th>verification_status</th>\n",
       "      <th>emp_length</th>\n",
       "      <th>dti</th>\n",
       "      <th>emp_title</th>\n",
       "      <th>annual_inc</th>\n",
       "    </tr>\n",
       "  </thead>\n",
       "  <tbody>\n",
       "    <tr>\n",
       "      <th>0</th>\n",
       "      <td>63480419</td>\n",
       "      <td>Current</td>\n",
       "      <td>NaN</td>\n",
       "      <td>15954</td>\n",
       "      <td>debt_consolidation</td>\n",
       "      <td>KS</td>\n",
       "      <td>Debt consolidation</td>\n",
       "      <td>MORTGAGE</td>\n",
       "      <td>INDIVIDUAL</td>\n",
       "      <td>NaN</td>\n",
       "      <td>8/5/2019</td>\n",
       "      <td>11/15/2019</td>\n",
       "      <td>Not Verified</td>\n",
       "      <td>5 years</td>\n",
       "      <td>24.85</td>\n",
       "      <td>Branch Office Administrator</td>\n",
       "      <td>62000.0</td>\n",
       "    </tr>\n",
       "    <tr>\n",
       "      <th>1</th>\n",
       "      <td>51386490</td>\n",
       "      <td>Current</td>\n",
       "      <td>NaN</td>\n",
       "      <td>73814</td>\n",
       "      <td>debt_consolidation</td>\n",
       "      <td>MD</td>\n",
       "      <td>Debt consolidation</td>\n",
       "      <td>MORTGAGE</td>\n",
       "      <td>INDIVIDUAL</td>\n",
       "      <td>NaN</td>\n",
       "      <td>9/1/1983</td>\n",
       "      <td>6/15/2019</td>\n",
       "      <td>Verified</td>\n",
       "      <td>10+ years</td>\n",
       "      <td>26.38</td>\n",
       "      <td>IIntelligence Analyst</td>\n",
       "      <td>113000.0</td>\n",
       "    </tr>\n",
       "    <tr>\n",
       "      <th>2</th>\n",
       "      <td>13567696</td>\n",
       "      <td>Current</td>\n",
       "      <td>NaN</td>\n",
       "      <td>30013</td>\n",
       "      <td>major_purchase</td>\n",
       "      <td>TX</td>\n",
       "      <td>Major purchase</td>\n",
       "      <td>OWN</td>\n",
       "      <td>INDIVIDUAL</td>\n",
       "      <td>NaN</td>\n",
       "      <td>12/1/1999</td>\n",
       "      <td>4/14/2019</td>\n",
       "      <td>Not Verified</td>\n",
       "      <td>10+ years</td>\n",
       "      <td>14.41</td>\n",
       "      <td>Global Service Delivery Lead</td>\n",
       "      <td>180000.0</td>\n",
       "    </tr>\n",
       "    <tr>\n",
       "      <th>3</th>\n",
       "      <td>22252931</td>\n",
       "      <td>Fully Paid</td>\n",
       "      <td>NaN</td>\n",
       "      <td>10768</td>\n",
       "      <td>credit_card</td>\n",
       "      <td>DE</td>\n",
       "      <td>Credit card refinancing</td>\n",
       "      <td>MORTGAGE</td>\n",
       "      <td>INDIVIDUAL</td>\n",
       "      <td>NaN</td>\n",
       "      <td>9/1/2019</td>\n",
       "      <td>7/14/2019</td>\n",
       "      <td>Not Verified</td>\n",
       "      <td>10+ years</td>\n",
       "      <td>24.31</td>\n",
       "      <td>Operations Manager</td>\n",
       "      <td>66000.0</td>\n",
       "    </tr>\n",
       "    <tr>\n",
       "      <th>4</th>\n",
       "      <td>6539569</td>\n",
       "      <td>Fully Paid</td>\n",
       "      <td>NaN</td>\n",
       "      <td>35551</td>\n",
       "      <td>home_improvement</td>\n",
       "      <td>WI</td>\n",
       "      <td>Home Improvement</td>\n",
       "      <td>MORTGAGE</td>\n",
       "      <td>INDIVIDUAL</td>\n",
       "      <td>NaN</td>\n",
       "      <td>12/1/1992</td>\n",
       "      <td>8/13/2019</td>\n",
       "      <td>Verified</td>\n",
       "      <td>2 years</td>\n",
       "      <td>1.70</td>\n",
       "      <td>Coram Specialty Infusion</td>\n",
       "      <td>110000.0</td>\n",
       "    </tr>\n",
       "  </tbody>\n",
       "</table>\n",
       "</div>"
      ],
      "text/plain": [
       "         id loan_status  mths_since_last_major_derog  revol_bal  \\\n",
       "0  63480419     Current                          NaN      15954   \n",
       "1  51386490     Current                          NaN      73814   \n",
       "2  13567696     Current                          NaN      30013   \n",
       "3  22252931  Fully Paid                          NaN      10768   \n",
       "4   6539569  Fully Paid                          NaN      35551   \n",
       "\n",
       "              purpose addr_state                    title home_ownership  \\\n",
       "0  debt_consolidation         KS       Debt consolidation       MORTGAGE   \n",
       "1  debt_consolidation         MD       Debt consolidation       MORTGAGE   \n",
       "2      major_purchase         TX           Major purchase            OWN   \n",
       "3         credit_card         DE  Credit card refinancing       MORTGAGE   \n",
       "4    home_improvement         WI        Home Improvement        MORTGAGE   \n",
       "\n",
       "  application_type verification_status_joint earliest_cr_line  apply_date  \\\n",
       "0       INDIVIDUAL                       NaN         8/5/2019  11/15/2019   \n",
       "1       INDIVIDUAL                       NaN         9/1/1983   6/15/2019   \n",
       "2       INDIVIDUAL                       NaN        12/1/1999   4/14/2019   \n",
       "3       INDIVIDUAL                       NaN         9/1/2019   7/14/2019   \n",
       "4       INDIVIDUAL                       NaN        12/1/1992   8/13/2019   \n",
       "\n",
       "  verification_status emp_length    dti                     emp_title  \\\n",
       "0        Not Verified    5 years  24.85   Branch Office Administrator   \n",
       "1            Verified  10+ years  26.38         IIntelligence Analyst   \n",
       "2        Not Verified  10+ years  14.41  Global Service Delivery Lead   \n",
       "3        Not Verified  10+ years  24.31            Operations Manager   \n",
       "4            Verified    2 years   1.70      Coram Specialty Infusion   \n",
       "\n",
       "   annual_inc  \n",
       "0     62000.0  \n",
       "1    113000.0  \n",
       "2    180000.0  \n",
       "3     66000.0  \n",
       "4    110000.0  "
      ]
     },
     "execution_count": 123,
     "metadata": {},
     "output_type": "execute_result"
    }
   ],
   "source": [
    "data.head()"
   ]
  },
  {
   "cell_type": "markdown",
   "metadata": {},
   "source": [
    "### Data Preprocessing"
   ]
  },
  {
   "cell_type": "markdown",
   "metadata": {},
   "source": [
    "### Dealing with missing values -- Remove columns with >70% missing values"
   ]
  },
  {
   "cell_type": "code",
   "execution_count": 124,
   "metadata": {},
   "outputs": [
    {
     "data": {
      "text/plain": [
       "id                              0.0000\n",
       "loan_status                     0.0000\n",
       "mths_since_last_major_derog    75.1275\n",
       "revol_bal                       0.0000\n",
       "purpose                         0.0000\n",
       "addr_state                      0.0000\n",
       "title                           0.0180\n",
       "home_ownership                  0.0000\n",
       "application_type                0.0000\n",
       "verification_status_joint      99.9445\n",
       "earliest_cr_line                0.0055\n",
       "apply_date                      0.0000\n",
       "verification_status             0.0000\n",
       "emp_length                      5.1325\n",
       "dti                             0.0000\n",
       "emp_title                       5.8965\n",
       "annual_inc                      0.0010\n",
       "dtype: float64"
      ]
     },
     "execution_count": 124,
     "metadata": {},
     "output_type": "execute_result"
    }
   ],
   "source": [
    "# Find out % of missing values in columns\n",
    "(data.isnull().sum()/data.shape[0])*100"
   ]
  },
  {
   "cell_type": "code",
   "execution_count": 74,
   "metadata": {},
   "outputs": [],
   "source": [
    "# Remove verification_status_joint and mths_since_last_major_derog as more than 70% of its values are null\n",
    "data.drop(['verification_status_joint'], axis=1, inplace=True)\n",
    "data.drop(['mths_since_last_major_derog'], axis=1, inplace=True)"
   ]
  },
  {
   "cell_type": "code",
   "execution_count": 126,
   "metadata": {},
   "outputs": [
    {
     "data": {
      "text/plain": [
       "5.9615"
      ]
     },
     "execution_count": 126,
     "metadata": {},
     "output_type": "execute_result"
    }
   ],
   "source": [
    "#percentage of rows with missing values\n",
    "# if rows don't belone to Default loan category, we can drop them else will just impute them \n",
    "(data.shape[0] - data.dropna().shape[0])*100/data.shape[0]"
   ]
  },
  {
   "cell_type": "code",
   "execution_count": 132,
   "metadata": {},
   "outputs": [
    {
     "data": {
      "text/plain": [
       "id                        0\n",
       "loan_status               0\n",
       "revol_bal                 0\n",
       "purpose                   0\n",
       "addr_state                0\n",
       "title                     3\n",
       "home_ownership            0\n",
       "application_type          0\n",
       "earliest_cr_line         11\n",
       "apply_date                0\n",
       "verification_status       0\n",
       "emp_length             2454\n",
       "dti                       0\n",
       "emp_title              3408\n",
       "annual_inc                2\n",
       "dtype: int64"
      ]
     },
     "execution_count": 132,
     "metadata": {},
     "output_type": "execute_result"
    }
   ],
   "source": [
    "data.isnull().sum()"
   ]
  },
  {
   "cell_type": "markdown",
   "metadata": {},
   "source": [
    "### Feature Engineering"
   ]
  },
  {
   "cell_type": "markdown",
   "metadata": {},
   "source": [
    "#### 1) loan_status"
   ]
  },
  {
   "cell_type": "code",
   "execution_count": 75,
   "metadata": {},
   "outputs": [],
   "source": [
    "# Convert loan_status into two categories 'Default' and 'Not Default'\n",
    "# and drop 'current'\n",
    "# Based on the case study, \"A default is identified by a loan status listed as in default, over 30 days late, or charged\n",
    "# off\"\n",
    "\n",
    "default_vals = ['Charged Off', 'Late (31-120 days)', 'Default', 'Does not meet the credit policy. Status:Charged Off']\n",
    "full_paid_vals = ['Fully Paid', 'Does not meet the credit policy. Status:Fully Paid']\n",
    "\n",
    "def loan_type(status):\n",
    "    if status in default_vals:\n",
    "        return 'Default'\n",
    "    elif status in full_paid_vals:\n",
    "        return \"Fully Paid\"\n",
    "    else:\n",
    "        return status\n",
    "    \n",
    "data['loan_status'] = data['loan_status'].apply(loan_type)\n",
    "data['loan_status'].value_counts()\n",
    "\n",
    "\n",
    "# limit data to these categories only\n",
    "data = data.loc[data.loan_status.isin(['Default', 'Fully Paid'])]"
   ]
  },
  {
   "cell_type": "code",
   "execution_count": 54,
   "metadata": {},
   "outputs": [
    {
     "data": {
      "text/plain": [
       "True"
      ]
     },
     "execution_count": 54,
     "metadata": {},
     "output_type": "execute_result"
    }
   ],
   "source": [
    "len(data) == len(data.id.value_counts()) # every id is unique "
   ]
  },
  {
   "cell_type": "markdown",
   "metadata": {},
   "source": [
    "**2) Emp_length**"
   ]
  },
  {
   "cell_type": "code",
   "execution_count": 76,
   "metadata": {},
   "outputs": [
    {
     "data": {
      "text/plain": [
       "emp_length\n",
       "2     0.198841\n",
       "5     0.205092\n",
       "4     0.208279\n",
       "3     0.214747\n",
       "10    0.216592\n",
       "1     0.223907\n",
       "8     0.224607\n",
       "7     0.228349\n",
       "0     0.228743\n",
       "9     0.233715\n",
       "6     0.251698\n",
       "Name: loan_status, dtype: float64"
      ]
     },
     "execution_count": 76,
     "metadata": {},
     "output_type": "execute_result"
    }
   ],
   "source": [
    "# strip integers from emp_length\n",
    "\n",
    "data.loc[data.emp_length == '< 1 year', 'emp_length'] = '0 year'\n",
    "data['emp_length'] = data.emp_length.str.extract('(\\d+)')\n",
    "# fill na by median value\n",
    "data['emp_length'].fillna(data['emp_length'].median(), inplace=True)\n",
    "data.emp_length = data.emp_length.astype('int64')\n",
    "\n",
    "# How emp_length is related ro Default loan category?\n",
    "data.groupby('emp_length')['loan_status'].value_counts(normalize=True).loc[:, 'Default'].sort_values()"
   ]
  },
  {
   "cell_type": "markdown",
   "metadata": {},
   "source": [
    "**3) purpose**"
   ]
  },
  {
   "cell_type": "code",
   "execution_count": 77,
   "metadata": {},
   "outputs": [
    {
     "data": {
      "image/png": "[encoded data removed]",
      "text/plain": [
       "<Figure size 1440x360 with 1 Axes>"
      ]
     },
     "metadata": {
      "needs_background": "light"
     },
     "output_type": "display_data"
    }
   ],
   "source": [
    "data.purpose.value_counts()\n",
    "data.groupby('loan_status')['purpose'].describe()\n",
    "data.groupby('purpose')['loan_status'].value_counts(normalize=True).loc[:,'Default'].sort_values()\n",
    "data['defaulted'] = 0\n",
    "data.loc[data.loan_status == 'Default', 'defaulted'] = 1\n",
    "sns.catplot(x='purpose', y='defaulted', kind='bar', data = data, aspect=4);"
   ]
  },
  {
   "cell_type": "markdown",
   "metadata": {},
   "source": [
    "Interesting that 31% of loans associated with small business were defaulted. \n",
    "But only 14% of loans for car, educational and major purchase were defaulted"
   ]
  },
  {
   "cell_type": "markdown",
   "metadata": {},
   "source": [
    "**4) addr_state**"
   ]
  },
  {
   "cell_type": "code",
   "execution_count": 79,
   "metadata": {},
   "outputs": [
    {
     "data": {
      "text/plain": [
       "addr_state\n",
       "NE    0.111111\n",
       "WY    0.121429\n",
       "DC    0.149038\n",
       "VT    0.163462\n",
       "CO    0.174453\n",
       "DE    0.175532\n",
       "NH    0.183824\n",
       "CT    0.184939\n",
       "SC    0.192469\n",
       "KS    0.193939\n",
       "WV    0.195035\n",
       "TX    0.199914\n",
       "OR    0.201235\n",
       "MT    0.202381\n",
       "IL    0.203405\n",
       "MA    0.203844\n",
       "KY    0.205224\n",
       "CA    0.206119\n",
       "RI    0.207031\n",
       "GA    0.208948\n",
       "WA    0.209072\n",
       "AK    0.209150\n",
       "AZ    0.211398\n",
       "MN    0.216891\n",
       "MD    0.218407\n",
       "PA    0.220896\n",
       "UT    0.221311\n",
       "SD    0.223881\n",
       "MO    0.224026\n",
       "OH    0.226016\n",
       "LA    0.226542\n",
       "AR    0.226545\n",
       "NJ    0.228890\n",
       "WI    0.236000\n",
       "MI    0.236287\n",
       "NC    0.237015\n",
       "NY    0.237705\n",
       "HI    0.239782\n",
       "VA    0.240021\n",
       "OK    0.245931\n",
       "AL    0.249354\n",
       "FL    0.254368\n",
       "NM    0.267516\n",
       "NV    0.268707\n",
       "IN    0.269051\n",
       "MS    0.288660\n",
       "TN    0.300509\n",
       "Name: loan_status, dtype: float64"
      ]
     },
     "execution_count": 79,
     "metadata": {},
     "output_type": "execute_result"
    }
   ],
   "source": [
    "data.addr_state.value_counts()\n",
    "data.groupby('addr_state')['loan_status'].value_counts(normalize=True).loc[:, 'Default'].sort_values()"
   ]
  },
  {
   "cell_type": "markdown",
   "metadata": {},
   "source": [
    "Tennessee and Mississippi are the states that have higher default rates (~28%) than Nebraska, Wyoming\n",
    "where default rate is ~11%"
   ]
  },
  {
   "cell_type": "markdown",
   "metadata": {},
   "source": [
    "**5) Emp_title**"
   ]
  },
  {
   "cell_type": "code",
   "execution_count": 7,
   "metadata": {},
   "outputs": [
    {
     "data": {
      "text/plain": [
       "Manager                                  489\n",
       "Teacher                                  431\n",
       "Registered Nurse                         202\n",
       "Supervisor                               201\n",
       "RN                                       176\n",
       "Sales                                    173\n",
       "Project Manager                          159\n",
       "manager                                  157\n",
       "Driver                                   155\n",
       "Office Manager                           138\n",
       "Director                                 132\n",
       "Engineer                                 118\n",
       "Owner                                    113\n",
       "driver                                   111\n",
       "teacher                                  107\n",
       "US Army                                  103\n",
       "Vice President                           102\n",
       "General Manager                          100\n",
       "Operations Manager                        98\n",
       "Administrative Assistant                  91\n",
       "Executive Assistant                       89\n",
       "Account Manager                           86\n",
       "Bank of America                           83\n",
       "Analyst                                   79\n",
       "Police Officer                            78\n",
       "Accountant                                78\n",
       "President                                 77\n",
       "sales                                     76\n",
       "supervisor                                75\n",
       "Attorney                                  73\n",
       "                                        ... \n",
       "Cryptologic Technician                     1\n",
       "American Home Mortgage Servicing Inc.      1\n",
       "Brewery Worker                             1\n",
       "Lake Havasu City Fire Department           1\n",
       "Northwest Tower Crane Service              1\n",
       "Unifi Manufacturing, Inc.                  1\n",
       "Crestview Retirment Community              1\n",
       "Assistant Professor in Radiology           1\n",
       "City of new orleans                        1\n",
       "OCZ Technology                             1\n",
       "CNC Machine and Fabrication                1\n",
       "Nantucket New School                       1\n",
       "Deloitte and Touche                        1\n",
       "Raley's                                    1\n",
       "Dept. of Home Land Security                1\n",
       "DuPont Water Technologies                  1\n",
       "Colonial Heights City Schools              1\n",
       "Tykan Group                                1\n",
       "Genesis healthcare                         1\n",
       "Terrebonne Wireline                        1\n",
       "mt auburn hospital                         1\n",
       "Treo Solutions                             1\n",
       "Welsco Inc                                 1\n",
       "AA3                                        1\n",
       "Piggly Wiggly                              1\n",
       "miami dade police dept                     1\n",
       "TEKSystems                                 1\n",
       "digital media coordinator                  1\n",
       "Director of Ed Tech                        1\n",
       "Halstead Magment                           1\n",
       "Name: emp_title, Length: 38149, dtype: int64"
      ]
     },
     "execution_count": 7,
     "metadata": {},
     "output_type": "execute_result"
    }
   ],
   "source": [
    "data.emp_title.value_counts() ## too many values"
   ]
  },
  {
   "cell_type": "markdown",
   "metadata": {},
   "source": [
    "**6) Annual Income**"
   ]
  },
  {
   "cell_type": "code",
   "execution_count": 80,
   "metadata": {},
   "outputs": [
    {
     "data": {
      "image/png": "[encoded data removed]",
      "text/plain": [
       "<Figure size 432x288 with 1 Axes>"
      ]
     },
     "metadata": {},
     "output_type": "display_data"
    }
   ],
   "source": [
    "sns.set_style('darkgrid')\n",
    "g = sns.distplot(data.annual_inc.dropna())\n",
    "#g = sns.distplot(data.annual_inc[data.annual_inc <= 75000])\n",
    "g.set_xlabel(\"\", fontsize=12)\n",
    "g.set_ylabel(\"Frequency Dist\", fontsize=12)\n",
    "g.set_title(\"Annual Income Distribuition\", fontsize=20)\n",
    "plt.show()"
   ]
  },
  {
   "cell_type": "code",
   "execution_count": 81,
   "metadata": {},
   "outputs": [
    {
     "data": {
      "text/plain": [
       "Text(0.5, 1.0, 'Annual Income by Loan status')"
      ]
     },
     "execution_count": 81,
     "metadata": {},
     "output_type": "execute_result"
    },
    {
     "data": {
      "image/png": "[encoded data removed]",
      "text/plain": [
       "<Figure size 432x288 with 1 Axes>"
      ]
     },
     "metadata": {},
     "output_type": "display_data"
    }
   ],
   "source": [
    "sns.set_style('darkgrid')\n",
    "g1 = sns.boxplot(x=\"loan_status\", y=\"annual_inc\", data=data[(data.annual_inc <= 300000)])\n",
    "g1.set_xlabel(\"\", fontsize=12)\n",
    "g1.set_ylabel(\"Annual Income\", fontsize=15)\n",
    "g1.set_title(\"Annual Income by Loan status\", fontsize=20)"
   ]
  },
  {
   "cell_type": "markdown",
   "metadata": {},
   "source": [
    "People who default seems to have lower median annual income than people who paid off their loan "
   ]
  },
  {
   "cell_type": "code",
   "execution_count": 82,
   "metadata": {},
   "outputs": [],
   "source": [
    "# data imputation\n",
    "\n",
    "data.annual_inc.fillna(data.annual_inc.median(), inplace=True)"
   ]
  },
  {
   "cell_type": "markdown",
   "metadata": {},
   "source": [
    "**7) Log Annual Income**"
   ]
  },
  {
   "cell_type": "code",
   "execution_count": 83,
   "metadata": {},
   "outputs": [
    {
     "data": {
      "image/png": "[encoded data removed]",
      "text/plain": [
       "<Figure size 432x288 with 1 Axes>"
      ]
     },
     "metadata": {},
     "output_type": "display_data"
    }
   ],
   "source": [
    "import numpy as np\n",
    "\n",
    "data['log_annual_inc'] = data['annual_inc'].apply(lambda x: np.log10(x+1))\n",
    "sns.set_style('darkgrid')\n",
    "g = sns.distplot(data.log_annual_inc)\n",
    "g.set_xlabel(\"\", fontsize=12)\n",
    "g.set_ylabel(\"Frequency Dist\", fontsize=12)\n",
    "g.set_title(\"Log Annual Income Distribuition\", fontsize=20)\n",
    "plt.show()"
   ]
  },
  {
   "cell_type": "markdown",
   "metadata": {},
   "source": [
    "**8) dti**"
   ]
  },
  {
   "cell_type": "code",
   "execution_count": 84,
   "metadata": {},
   "outputs": [
    {
     "data": {
      "text/html": [
       "<div>\n",
       "<style scoped>\n",
       "    .dataframe tbody tr th:only-of-type {\n",
       "        vertical-align: middle;\n",
       "    }\n",
       "\n",
       "    .dataframe tbody tr th {\n",
       "        vertical-align: top;\n",
       "    }\n",
       "\n",
       "    .dataframe thead th {\n",
       "        text-align: right;\n",
       "    }\n",
       "</style>\n",
       "<table border=\"1\" class=\"dataframe\">\n",
       "  <thead>\n",
       "    <tr style=\"text-align: right;\">\n",
       "      <th></th>\n",
       "      <th>count</th>\n",
       "      <th>mean</th>\n",
       "      <th>std</th>\n",
       "      <th>min</th>\n",
       "      <th>25%</th>\n",
       "      <th>50%</th>\n",
       "      <th>75%</th>\n",
       "      <th>max</th>\n",
       "    </tr>\n",
       "    <tr>\n",
       "      <th>loan_status</th>\n",
       "      <th></th>\n",
       "      <th></th>\n",
       "      <th></th>\n",
       "      <th></th>\n",
       "      <th></th>\n",
       "      <th></th>\n",
       "      <th></th>\n",
       "      <th></th>\n",
       "    </tr>\n",
       "  </thead>\n",
       "  <tbody>\n",
       "    <tr>\n",
       "      <th>Default</th>\n",
       "      <td>13344.0</td>\n",
       "      <td>18.731147</td>\n",
       "      <td>8.069019</td>\n",
       "      <td>0.0</td>\n",
       "      <td>12.86</td>\n",
       "      <td>18.68</td>\n",
       "      <td>24.43</td>\n",
       "      <td>39.98</td>\n",
       "    </tr>\n",
       "    <tr>\n",
       "      <th>Fully Paid</th>\n",
       "      <td>47289.0</td>\n",
       "      <td>16.084241</td>\n",
       "      <td>7.691659</td>\n",
       "      <td>0.0</td>\n",
       "      <td>10.34</td>\n",
       "      <td>15.70</td>\n",
       "      <td>21.46</td>\n",
       "      <td>39.99</td>\n",
       "    </tr>\n",
       "  </tbody>\n",
       "</table>\n",
       "</div>"
      ],
      "text/plain": [
       "               count       mean       std  min    25%    50%    75%    max\n",
       "loan_status                                                               \n",
       "Default      13344.0  18.731147  8.069019  0.0  12.86  18.68  24.43  39.98\n",
       "Fully Paid   47289.0  16.084241  7.691659  0.0  10.34  15.70  21.46  39.99"
      ]
     },
     "execution_count": 84,
     "metadata": {},
     "output_type": "execute_result"
    }
   ],
   "source": [
    "data.dti.describe()\n",
    "data.groupby('loan_status')['dti'].describe()"
   ]
  },
  {
   "cell_type": "markdown",
   "metadata": {},
   "source": [
    "People who default have higher mean dti than people who paid off their loan"
   ]
  },
  {
   "cell_type": "markdown",
   "metadata": {},
   "source": [
    "**9) Revol_bal**"
   ]
  },
  {
   "cell_type": "code",
   "execution_count": 85,
   "metadata": {},
   "outputs": [
    {
     "data": {
      "image/png": "[encoded data removed]",
      "text/plain": [
       "<Figure size 432x288 with 1 Axes>"
      ]
     },
     "metadata": {},
     "output_type": "display_data"
    }
   ],
   "source": [
    "sns.set_style('darkgrid')\n",
    "g = sns.distplot(data.revol_bal)\n",
    "g.set_xlabel(\"\", fontsize=12)\n",
    "g.set_ylabel(\"Frequency Dist\", fontsize=12)\n",
    "g.set_title(\"Revol Bal Distribuition\", fontsize=20)\n",
    "plt.show()"
   ]
  },
  {
   "cell_type": "markdown",
   "metadata": {},
   "source": [
    "**10) Log Revol Bal**"
   ]
  },
  {
   "cell_type": "code",
   "execution_count": 86,
   "metadata": {},
   "outputs": [
    {
     "data": {
      "image/png": "[encoded data removed]",
      "text/plain": [
       "<Figure size 432x288 with 1 Axes>"
      ]
     },
     "metadata": {},
     "output_type": "display_data"
    }
   ],
   "source": [
    "data['log_revol_bal'] = data['revol_bal'].apply(lambda x: np.log10(x+1))\n",
    "sns.set_style('darkgrid')\n",
    "g = sns.distplot(data.log_revol_bal)\n",
    "g.set_xlabel(\"\", fontsize=12)\n",
    "g.set_ylabel(\"Frequency Dist\", fontsize=12)\n",
    "g.set_title(\"Log Revol Bal Distribuition\", fontsize=20)\n",
    "plt.show()"
   ]
  },
  {
   "cell_type": "markdown",
   "metadata": {},
   "source": [
    "**11) total_monthly_debt and age_credit**"
   ]
  },
  {
   "cell_type": "code",
   "execution_count": 87,
   "metadata": {},
   "outputs": [],
   "source": [
    "# create new variables \n",
    "\n",
    "data['total_monthly_debt'] = round((data['dti']/100)*(data['annual_inc']/12), 0)\n",
    "\n",
    "data['age_credit'] = pd.to_datetime(data['apply_date'], format = '%m/%d/%Y').dt.year - pd.to_datetime(data['earliest_cr_line'], format = '%m/%d/%Y').dt.year\n",
    "\n",
    "\n",
    "# Imputing by median for age_credit\n",
    "data.age_credit.fillna(data.age_credit.median(), inplace=True)"
   ]
  },
  {
   "cell_type": "markdown",
   "metadata": {},
   "source": [
    "**12) home_ownership**"
   ]
  },
  {
   "cell_type": "code",
   "execution_count": 92,
   "metadata": {},
   "outputs": [
    {
     "data": {
      "image/png": "[encoded data removed]",
      "text/plain": [
       "<Figure size 720x360 with 1 Axes>"
      ]
     },
     "metadata": {},
     "output_type": "display_data"
    }
   ],
   "source": [
    "# home ownership combine 'other', 'none', any to just 'other'\n",
    "data.loc[data.home_ownership.isin(['OTHER', 'ANY', 'NONE']), 'home_ownership'] = 'OTHER'\n",
    "data.groupby('home_ownership')['loan_status'].value_counts(normalize=True).loc[:, 'Default'].sort_values()\n",
    "sns.catplot(x='home_ownership', y='defaulted', kind='bar', data = data, aspect=2);"
   ]
  },
  {
   "cell_type": "markdown",
   "metadata": {},
   "source": [
    "24% of people who default on loan have rental homes compared to 19% of people who paid mortages on their homes"
   ]
  },
  {
   "cell_type": "markdown",
   "metadata": {
    "collapsed": true
   },
   "source": [
    "### Modeling"
   ]
  },
  {
   "cell_type": "code",
   "execution_count": 93,
   "metadata": {},
   "outputs": [
    {
     "data": {
      "text/plain": [
       "Fully Paid    0.779922\n",
       "Default       0.220078\n",
       "Name: loan_status, dtype: float64"
      ]
     },
     "execution_count": 93,
     "metadata": {},
     "output_type": "execute_result"
    }
   ],
   "source": [
    "data.loan_status.value_counts()/len(data)"
   ]
  },
  {
   "cell_type": "markdown",
   "metadata": {},
   "source": [
    "**Prepare X**"
   ]
  },
  {
   "cell_type": "code",
   "execution_count": 94,
   "metadata": {},
   "outputs": [
    {
     "name": "stderr",
     "output_type": "stream",
     "text": [
      "/anaconda3/lib/python3.7/site-packages/sklearn/preprocessing/data.py:625: DataConversionWarning: Data with input dtype int64, float64 were all converted to float64 by StandardScaler.\n",
      "  return self.partial_fit(X, y)\n",
      "/anaconda3/lib/python3.7/site-packages/sklearn/base.py:462: DataConversionWarning: Data with input dtype int64, float64 were all converted to float64 by StandardScaler.\n",
      "  return self.fit(X, **fit_params).transform(X)\n"
     ]
    }
   ],
   "source": [
    "from sklearn.linear_model import LogisticRegression\n",
    "from sklearn.model_selection import train_test_split\n",
    "from sklearn.model_selection import cross_val_score\n",
    "from sklearn import metrics\n",
    "from sklearn.preprocessing import StandardScaler\n",
    "from sklearn.ensemble import RandomForestClassifier, GradientBoostingClassifier\n",
    "\n",
    "\n",
    "#data.columns\n",
    "dummy_vars = ['home_ownership', 'verification_status', 'purpose']\n",
    "features_to_scale = ['log_revol_bal', 'emp_length', 'dti', 'log_annual_inc','total_monthly_debt', 'age_credit']\n",
    "    \n",
    "\n",
    "X = pd.get_dummies(data[features_to_scale + dummy_vars], columns=dummy_vars)\n",
    "\n",
    "# Scaling\n",
    "scaler=StandardScaler()\n",
    "X[features_to_scale]=scaler.fit_transform(X[features_to_scale])"
   ]
  },
  {
   "cell_type": "code",
   "execution_count": 95,
   "metadata": {},
   "outputs": [
    {
     "data": {
      "text/html": [
       "<div>\n",
       "<style scoped>\n",
       "    .dataframe tbody tr th:only-of-type {\n",
       "        vertical-align: middle;\n",
       "    }\n",
       "\n",
       "    .dataframe tbody tr th {\n",
       "        vertical-align: top;\n",
       "    }\n",
       "\n",
       "    .dataframe thead th {\n",
       "        text-align: right;\n",
       "    }\n",
       "</style>\n",
       "<table border=\"1\" class=\"dataframe\">\n",
       "  <thead>\n",
       "    <tr style=\"text-align: right;\">\n",
       "      <th></th>\n",
       "      <th>log_revol_bal</th>\n",
       "      <th>emp_length</th>\n",
       "      <th>dti</th>\n",
       "      <th>log_annual_inc</th>\n",
       "      <th>total_monthly_debt</th>\n",
       "      <th>age_credit</th>\n",
       "      <th>home_ownership_MORTGAGE</th>\n",
       "      <th>home_ownership_OTHER</th>\n",
       "      <th>home_ownership_OWN</th>\n",
       "      <th>home_ownership_RENT</th>\n",
       "      <th>...</th>\n",
       "      <th>purpose_home_improvement</th>\n",
       "      <th>purpose_house</th>\n",
       "      <th>purpose_major_purchase</th>\n",
       "      <th>purpose_medical</th>\n",
       "      <th>purpose_moving</th>\n",
       "      <th>purpose_other</th>\n",
       "      <th>purpose_renewable_energy</th>\n",
       "      <th>purpose_small_business</th>\n",
       "      <th>purpose_vacation</th>\n",
       "      <th>purpose_wedding</th>\n",
       "    </tr>\n",
       "  </thead>\n",
       "  <tbody>\n",
       "    <tr>\n",
       "      <th>3</th>\n",
       "      <td>0.112809</td>\n",
       "      <td>1.175597</td>\n",
       "      <td>0.973277</td>\n",
       "      <td>0.103225</td>\n",
       "      <td>0.634895</td>\n",
       "      <td>-1.188641</td>\n",
       "      <td>1</td>\n",
       "      <td>0</td>\n",
       "      <td>0</td>\n",
       "      <td>0</td>\n",
       "      <td>...</td>\n",
       "      <td>0</td>\n",
       "      <td>0</td>\n",
       "      <td>0</td>\n",
       "      <td>0</td>\n",
       "      <td>0</td>\n",
       "      <td>0</td>\n",
       "      <td>0</td>\n",
       "      <td>0</td>\n",
       "      <td>0</td>\n",
       "      <td>0</td>\n",
       "    </tr>\n",
       "    <tr>\n",
       "      <th>4</th>\n",
       "      <td>1.026511</td>\n",
       "      <td>-1.078529</td>\n",
       "      <td>-1.905844</td>\n",
       "      <td>1.078582</td>\n",
       "      <td>-1.251372</td>\n",
       "      <td>0.869673</td>\n",
       "      <td>1</td>\n",
       "      <td>0</td>\n",
       "      <td>0</td>\n",
       "      <td>0</td>\n",
       "      <td>...</td>\n",
       "      <td>1</td>\n",
       "      <td>0</td>\n",
       "      <td>0</td>\n",
       "      <td>0</td>\n",
       "      <td>0</td>\n",
       "      <td>0</td>\n",
       "      <td>0</td>\n",
       "      <td>0</td>\n",
       "      <td>0</td>\n",
       "      <td>0</td>\n",
       "    </tr>\n",
       "    <tr>\n",
       "      <th>7</th>\n",
       "      <td>1.132539</td>\n",
       "      <td>0.048534</td>\n",
       "      <td>0.406621</td>\n",
       "      <td>0.858121</td>\n",
       "      <td>1.090091</td>\n",
       "      <td>0.336036</td>\n",
       "      <td>1</td>\n",
       "      <td>0</td>\n",
       "      <td>0</td>\n",
       "      <td>0</td>\n",
       "      <td>...</td>\n",
       "      <td>0</td>\n",
       "      <td>0</td>\n",
       "      <td>0</td>\n",
       "      <td>0</td>\n",
       "      <td>0</td>\n",
       "      <td>0</td>\n",
       "      <td>0</td>\n",
       "      <td>0</td>\n",
       "      <td>0</td>\n",
       "      <td>0</td>\n",
       "    </tr>\n",
       "    <tr>\n",
       "      <th>9</th>\n",
       "      <td>0.764374</td>\n",
       "      <td>1.175597</td>\n",
       "      <td>0.425722</td>\n",
       "      <td>-0.244893</td>\n",
       "      <td>-0.035919</td>\n",
       "      <td>-1.188641</td>\n",
       "      <td>0</td>\n",
       "      <td>0</td>\n",
       "      <td>0</td>\n",
       "      <td>1</td>\n",
       "      <td>...</td>\n",
       "      <td>0</td>\n",
       "      <td>0</td>\n",
       "      <td>0</td>\n",
       "      <td>0</td>\n",
       "      <td>0</td>\n",
       "      <td>0</td>\n",
       "      <td>0</td>\n",
       "      <td>0</td>\n",
       "      <td>0</td>\n",
       "      <td>0</td>\n",
       "    </tr>\n",
       "    <tr>\n",
       "      <th>10</th>\n",
       "      <td>0.482944</td>\n",
       "      <td>1.175597</td>\n",
       "      <td>0.011872</td>\n",
       "      <td>0.256056</td>\n",
       "      <td>0.095049</td>\n",
       "      <td>0.564737</td>\n",
       "      <td>0</td>\n",
       "      <td>0</td>\n",
       "      <td>0</td>\n",
       "      <td>1</td>\n",
       "      <td>...</td>\n",
       "      <td>0</td>\n",
       "      <td>0</td>\n",
       "      <td>0</td>\n",
       "      <td>0</td>\n",
       "      <td>0</td>\n",
       "      <td>0</td>\n",
       "      <td>0</td>\n",
       "      <td>0</td>\n",
       "      <td>0</td>\n",
       "      <td>0</td>\n",
       "    </tr>\n",
       "  </tbody>\n",
       "</table>\n",
       "<p>5 rows × 27 columns</p>\n",
       "</div>"
      ],
      "text/plain": [
       "    log_revol_bal  emp_length       dti  log_annual_inc  total_monthly_debt  \\\n",
       "3        0.112809    1.175597  0.973277        0.103225            0.634895   \n",
       "4        1.026511   -1.078529 -1.905844        1.078582           -1.251372   \n",
       "7        1.132539    0.048534  0.406621        0.858121            1.090091   \n",
       "9        0.764374    1.175597  0.425722       -0.244893           -0.035919   \n",
       "10       0.482944    1.175597  0.011872        0.256056            0.095049   \n",
       "\n",
       "    age_credit  home_ownership_MORTGAGE  home_ownership_OTHER  \\\n",
       "3    -1.188641                        1                     0   \n",
       "4     0.869673                        1                     0   \n",
       "7     0.336036                        1                     0   \n",
       "9    -1.188641                        0                     0   \n",
       "10    0.564737                        0                     0   \n",
       "\n",
       "    home_ownership_OWN  home_ownership_RENT       ...         \\\n",
       "3                    0                    0       ...          \n",
       "4                    0                    0       ...          \n",
       "7                    0                    0       ...          \n",
       "9                    0                    1       ...          \n",
       "10                   0                    1       ...          \n",
       "\n",
       "    purpose_home_improvement  purpose_house  purpose_major_purchase  \\\n",
       "3                          0              0                       0   \n",
       "4                          1              0                       0   \n",
       "7                          0              0                       0   \n",
       "9                          0              0                       0   \n",
       "10                         0              0                       0   \n",
       "\n",
       "    purpose_medical  purpose_moving  purpose_other  purpose_renewable_energy  \\\n",
       "3                 0               0              0                         0   \n",
       "4                 0               0              0                         0   \n",
       "7                 0               0              0                         0   \n",
       "9                 0               0              0                         0   \n",
       "10                0               0              0                         0   \n",
       "\n",
       "    purpose_small_business  purpose_vacation  purpose_wedding  \n",
       "3                        0                 0                0  \n",
       "4                        0                 0                0  \n",
       "7                        0                 0                0  \n",
       "9                        0                 0                0  \n",
       "10                       0                 0                0  \n",
       "\n",
       "[5 rows x 27 columns]"
      ]
     },
     "execution_count": 95,
     "metadata": {},
     "output_type": "execute_result"
    }
   ],
   "source": [
    "X.head()"
   ]
  },
  {
   "cell_type": "markdown",
   "metadata": {},
   "source": [
    "**Prepare Y**"
   ]
  },
  {
   "cell_type": "code",
   "execution_count": 96,
   "metadata": {},
   "outputs": [
    {
     "data": {
      "text/plain": [
       "array([0, 0, 0, ..., 0, 0, 0])"
      ]
     },
     "execution_count": 96,
     "metadata": {},
     "output_type": "execute_result"
    }
   ],
   "source": [
    "mask = (data.loan_status == 'Default')\n",
    "data['target'] = 0 \n",
    "data.loc[mask,'target'] = 1\n",
    "data.target.value_counts()/len(data)\n",
    "\n",
    "y = data['target']\n",
    "y.values"
   ]
  },
  {
   "cell_type": "code",
   "execution_count": 97,
   "metadata": {},
   "outputs": [],
   "source": [
    "from sklearn.model_selection import KFold, StratifiedKFold, cross_val_score\n",
    "from sklearn.linear_model import LogisticRegression\n",
    "from sklearn.model_selection import train_test_split\n",
    "from sklearn.model_selection import cross_val_score\n",
    "from sklearn import metrics\n",
    "from sklearn import preprocessing\n",
    "from sklearn.ensemble import RandomForestClassifier, GradientBoostingClassifier\n",
    "\n",
    "import matplotlib.pylab as plt\n",
    "%matplotlib inline\n",
    "\n",
    "def model_validation(classifier, X, y, n_folds=5):\n",
    "    \"\"\"Validate the model by cross validation\"\"\"\n",
    "    all_tpr = []\n",
    "    all_fpr = []\n",
    "    all_roc_auc = []\n",
    "    skf = StratifiedKFold(n_splits=n_folds)\n",
    "    for i, (train, test) in enumerate(skf.split(X, y)):\n",
    "        probas_ = classifier.fit(X[train], y[train]).predict_proba(X[test])\n",
    "        # Compute ROC curve and area under the curve\n",
    "        fpr, tpr, thresholds = metrics.roc_curve(y[test], probas_[:, 1], pos_label=1)\n",
    "        all_tpr.append(tpr)\n",
    "        all_fpr.append(fpr)\n",
    "        roc_auc = metrics.auc(fpr, tpr)\n",
    "        print(\"AUC for fold \", (i, roc_auc))\n",
    "        all_roc_auc.append(roc_auc)\n",
    "\n",
    "    # plot ROC curve for all folds\n",
    "    plot_ROC_curve(all_fpr, all_tpr, all_roc_auc, n_folds)\n",
    "    \n",
    "def plot_ROC_curve(all_fpr, all_tpr, all_roc_auc, n_folds):\n",
    "    \"\"\"Plot the ROC curve\"\"\"\n",
    "\n",
    "    for fold in range(n_folds):\n",
    "        plt.plot(all_fpr[fold], all_tpr[fold], lw=1, label='ROC fold %d (area = %0.2f)' % (fold, all_roc_auc[fold]))\n",
    "    plt.plot([0, 1], [0, 1], '--', color=(0.6, 0.6, 0.6))\n",
    "    plt.xlim([-0.05, 1.05])\n",
    "    plt.ylim([-0.05, 1.05])\n",
    "    plt.xlabel('False Positive Rate')\n",
    "    plt.ylabel('True Positive Rate')\n",
    "    plt.title('Receiver operating characteristic for cv folds')\n",
    "    plt.legend(loc=\"lower right\")"
   ]
  },
  {
   "cell_type": "markdown",
   "metadata": {},
   "source": [
    "**Train-Test Split** (Stratified)"
   ]
  },
  {
   "cell_type": "code",
   "execution_count": 98,
   "metadata": {},
   "outputs": [],
   "source": [
    "X_train, X_test, y_train, y_test = train_test_split(X, y, test_size=0.2, stratify=y, random_state=42)"
   ]
  },
  {
   "cell_type": "markdown",
   "metadata": {},
   "source": [
    "### Training model "
   ]
  },
  {
   "cell_type": "markdown",
   "metadata": {},
   "source": [
    "**Logistic Regression**\n"
   ]
  },
  {
   "cell_type": "code",
   "execution_count": 99,
   "metadata": {},
   "outputs": [
    {
     "name": "stdout",
     "output_type": "stream",
     "text": [
      "AUC for training data using Logistic Regression  0.6319017159824009\n",
      "[[ 0.06151332  0.03959344  0.28302591 -0.17607505 -0.0148843  -0.07502288\n",
      "  -0.03072296 -0.19754275  0.00549788  0.19258502 -0.27939707  0.10983858\n",
      "   0.13937569 -0.33609616 -0.1706214   0.03772231 -0.52812624 -0.01688143\n",
      "   0.18026868 -0.33167633  0.21399247  0.40335675  0.19869714  0.3030902\n",
      "   0.63240858 -0.16523596 -0.45108141]]\n"
     ]
    }
   ],
   "source": [
    "# train Logistic Regression\n",
    "lr = LogisticRegression(solver = 'lbfgs', max_iter= 2000) \n",
    "lr.fit(np.array(X_train), y_train.values) \n",
    "y_score = lr.predict_proba(np.array(X_train))[:,1]\n",
    "roc_auc = metrics.roc_auc_score(y_train.values, y_score)\n",
    "print(\"AUC for training data using Logistic Regression \",roc_auc)\n",
    "\n",
    "\n",
    "print(lr.coef_)"
   ]
  },
  {
   "cell_type": "code",
   "execution_count": 100,
   "metadata": {},
   "outputs": [
    {
     "name": "stdout",
     "output_type": "stream",
     "text": [
      "AUC for fold  (0, 0.6204204191192559)\n",
      "AUC for fold  (1, 0.6311626461533509)\n",
      "AUC for fold  (2, 0.641256923460743)\n",
      "AUC for fold  (3, 0.6321870738128977)\n",
      "AUC for fold  (4, 0.6245987689286658)\n"
     ]
    },
    {
     "data": {
      "image/png": "[encoded data removed]",
      "text/plain": [
       "<Figure size 432x288 with 1 Axes>"
      ]
     },
     "metadata": {
      "needs_background": "light"
     },
     "output_type": "display_data"
    }
   ],
   "source": [
    "# Validation AUC\n",
    "model_validation(LogisticRegression(solver = 'lbfgs', max_iter= 2000), X=np.array(X_train), y=y_train.values)"
   ]
  },
  {
   "cell_type": "code",
   "execution_count": 101,
   "metadata": {},
   "outputs": [
    {
     "name": "stdout",
     "output_type": "stream",
     "text": [
      "AUC for test data using Logistic Regression  0.6178466753411447\n"
     ]
    }
   ],
   "source": [
    "# test set\n",
    "y_score = lr.predict_proba(np.array(X_test))[:,1]\n",
    "roc_auc = metrics.roc_auc_score(y_test.values, y_score)\n",
    "print(\"AUC for test data using Logistic Regression \",roc_auc)\n"
   ]
  },
  {
   "cell_type": "markdown",
   "metadata": {},
   "source": [
    "**Random Forest** "
   ]
  },
  {
   "cell_type": "code",
   "execution_count": 106,
   "metadata": {},
   "outputs": [
    {
     "name": "stdout",
     "output_type": "stream",
     "text": [
      "AUC for training data is  0.9999999739999852\n"
     ]
    },
    {
     "data": {
      "text/html": [
       "<div>\n",
       "<style scoped>\n",
       "    .dataframe tbody tr th:only-of-type {\n",
       "        vertical-align: middle;\n",
       "    }\n",
       "\n",
       "    .dataframe tbody tr th {\n",
       "        vertical-align: top;\n",
       "    }\n",
       "\n",
       "    .dataframe thead th {\n",
       "        text-align: right;\n",
       "    }\n",
       "</style>\n",
       "<table border=\"1\" class=\"dataframe\">\n",
       "  <thead>\n",
       "    <tr style=\"text-align: right;\">\n",
       "      <th></th>\n",
       "      <th>importance</th>\n",
       "    </tr>\n",
       "  </thead>\n",
       "  <tbody>\n",
       "    <tr>\n",
       "      <th>dti</th>\n",
       "      <td>0.195176</td>\n",
       "    </tr>\n",
       "    <tr>\n",
       "      <th>log_revol_bal</th>\n",
       "      <td>0.187322</td>\n",
       "    </tr>\n",
       "    <tr>\n",
       "      <th>total_monthly_debt</th>\n",
       "      <td>0.182946</td>\n",
       "    </tr>\n",
       "    <tr>\n",
       "      <th>log_annual_inc</th>\n",
       "      <td>0.157878</td>\n",
       "    </tr>\n",
       "    <tr>\n",
       "      <th>age_credit</th>\n",
       "      <td>0.090402</td>\n",
       "    </tr>\n",
       "    <tr>\n",
       "      <th>emp_length</th>\n",
       "      <td>0.084505</td>\n",
       "    </tr>\n",
       "    <tr>\n",
       "      <th>purpose_debt_consolidation</th>\n",
       "      <td>0.012145</td>\n",
       "    </tr>\n",
       "    <tr>\n",
       "      <th>purpose_credit_card</th>\n",
       "      <td>0.009521</td>\n",
       "    </tr>\n",
       "    <tr>\n",
       "      <th>verification_status_Verified</th>\n",
       "      <td>0.008067</td>\n",
       "    </tr>\n",
       "    <tr>\n",
       "      <th>verification_status_Source Verified</th>\n",
       "      <td>0.007790</td>\n",
       "    </tr>\n",
       "    <tr>\n",
       "      <th>home_ownership_MORTGAGE</th>\n",
       "      <td>0.007575</td>\n",
       "    </tr>\n",
       "    <tr>\n",
       "      <th>purpose_other</th>\n",
       "      <td>0.007421</td>\n",
       "    </tr>\n",
       "    <tr>\n",
       "      <th>home_ownership_RENT</th>\n",
       "      <td>0.007390</td>\n",
       "    </tr>\n",
       "    <tr>\n",
       "      <th>verification_status_Not Verified</th>\n",
       "      <td>0.006995</td>\n",
       "    </tr>\n",
       "    <tr>\n",
       "      <th>home_ownership_OWN</th>\n",
       "      <td>0.006227</td>\n",
       "    </tr>\n",
       "    <tr>\n",
       "      <th>purpose_home_improvement</th>\n",
       "      <td>0.005760</td>\n",
       "    </tr>\n",
       "    <tr>\n",
       "      <th>purpose_small_business</th>\n",
       "      <td>0.004389</td>\n",
       "    </tr>\n",
       "    <tr>\n",
       "      <th>purpose_major_purchase</th>\n",
       "      <td>0.003376</td>\n",
       "    </tr>\n",
       "    <tr>\n",
       "      <th>purpose_medical</th>\n",
       "      <td>0.003191</td>\n",
       "    </tr>\n",
       "    <tr>\n",
       "      <th>purpose_moving</th>\n",
       "      <td>0.002720</td>\n",
       "    </tr>\n",
       "    <tr>\n",
       "      <th>purpose_car</th>\n",
       "      <td>0.002498</td>\n",
       "    </tr>\n",
       "    <tr>\n",
       "      <th>purpose_house</th>\n",
       "      <td>0.002007</td>\n",
       "    </tr>\n",
       "    <tr>\n",
       "      <th>purpose_vacation</th>\n",
       "      <td>0.001738</td>\n",
       "    </tr>\n",
       "    <tr>\n",
       "      <th>purpose_wedding</th>\n",
       "      <td>0.001564</td>\n",
       "    </tr>\n",
       "    <tr>\n",
       "      <th>purpose_renewable_energy</th>\n",
       "      <td>0.000521</td>\n",
       "    </tr>\n",
       "    <tr>\n",
       "      <th>purpose_educational</th>\n",
       "      <td>0.000512</td>\n",
       "    </tr>\n",
       "    <tr>\n",
       "      <th>home_ownership_OTHER</th>\n",
       "      <td>0.000362</td>\n",
       "    </tr>\n",
       "  </tbody>\n",
       "</table>\n",
       "</div>"
      ],
      "text/plain": [
       "                                     importance\n",
       "dti                                    0.195176\n",
       "log_revol_bal                          0.187322\n",
       "total_monthly_debt                     0.182946\n",
       "log_annual_inc                         0.157878\n",
       "age_credit                             0.090402\n",
       "emp_length                             0.084505\n",
       "purpose_debt_consolidation             0.012145\n",
       "purpose_credit_card                    0.009521\n",
       "verification_status_Verified           0.008067\n",
       "verification_status_Source Verified    0.007790\n",
       "home_ownership_MORTGAGE                0.007575\n",
       "purpose_other                          0.007421\n",
       "home_ownership_RENT                    0.007390\n",
       "verification_status_Not Verified       0.006995\n",
       "home_ownership_OWN                     0.006227\n",
       "purpose_home_improvement               0.005760\n",
       "purpose_small_business                 0.004389\n",
       "purpose_major_purchase                 0.003376\n",
       "purpose_medical                        0.003191\n",
       "purpose_moving                         0.002720\n",
       "purpose_car                            0.002498\n",
       "purpose_house                          0.002007\n",
       "purpose_vacation                       0.001738\n",
       "purpose_wedding                        0.001564\n",
       "purpose_renewable_energy               0.000521\n",
       "purpose_educational                    0.000512\n",
       "home_ownership_OTHER                   0.000362"
      ]
     },
     "execution_count": 106,
     "metadata": {},
     "output_type": "execute_result"
    }
   ],
   "source": [
    "# train data\n",
    "rf = RandomForestClassifier(n_estimators = 40) \n",
    "rf.fit(np.array(X_train), y_train.values) \n",
    "y_score = rf.predict_proba(np.array(X_train))[:,1]\n",
    "roc_auc = metrics.roc_auc_score(y_train.values, y_score)\n",
    "print(\"AUC for training data is \",roc_auc)\n",
    "    \n",
    "feature_importances = pd.DataFrame(rf.feature_importances_,\n",
    "                                   index = X.columns,\n",
    "                                    columns=['importance']).sort_values('importance',ascending=False)\n",
    "feature_importances"
   ]
  },
  {
   "cell_type": "code",
   "execution_count": 105,
   "metadata": {},
   "outputs": [
    {
     "name": "stdout",
     "output_type": "stream",
     "text": [
      "AUC for training data is  0.9998616254453973\n"
     ]
    }
   ],
   "source": [
    "# The model is clearly overfitting on training data, so let's train the model with few top features\n",
    "\n",
    "cols_of_interest = ['dti', 'log_revol_bal' ]\n",
    "# 'total_monthly_debt', 'log_annual_inc'\n",
    "\n",
    "rf_overfit = RandomForestClassifier(n_estimators = 40) \n",
    "rf_overfit.fit(np.array(X_train[cols_of_interest]), y_train.values) \n",
    "y_score = rf_overfit.predict_proba(np.array(X_train[cols_of_interest]))[:,1]\n",
    "roc_auc = metrics.roc_auc_score(y_train.values, y_score)\n",
    "print(\"AUC for training data is \",roc_auc)\n",
    "\n"
   ]
  },
  {
   "cell_type": "code",
   "execution_count": 104,
   "metadata": {},
   "outputs": [
    {
     "name": "stdout",
     "output_type": "stream",
     "text": [
      "AUC for fold  (0, 0.5819646752864108)\n",
      "AUC for fold  (1, 0.5966216421176705)\n",
      "AUC for fold  (2, 0.594022871950876)\n",
      "AUC for fold  (3, 0.5885890657142983)\n",
      "AUC for fold  (4, 0.5832209731567515)\n"
     ]
    },
    {
     "data": {
      "image/png": "[encoded data removed]",
      "text/plain": [
       "<Figure size 432x288 with 1 Axes>"
      ]
     },
     "metadata": {
      "needs_background": "light"
     },
     "output_type": "display_data"
    }
   ],
   "source": [
    "# Validation AUC\n",
    "model_validation(RandomForestClassifier(n_estimators = 40), X=np.array(X_train), y=y_train.values)"
   ]
  },
  {
   "cell_type": "code",
   "execution_count": 107,
   "metadata": {},
   "outputs": [
    {
     "name": "stdout",
     "output_type": "stream",
     "text": [
      "AUC for test data using Random Forest is  0.5809988091145559\n"
     ]
    }
   ],
   "source": [
    "# Test AUC\n",
    "y_score = rf.predict_proba(np.array(X_test))[:,1]\n",
    "roc_auc = metrics.roc_auc_score(y_test.values, y_score)\n",
    "print(\"AUC for test data using Random Forest is \",roc_auc)\n"
   ]
  },
  {
   "cell_type": "markdown",
   "metadata": {},
   "source": [
    "**Gradient Boosted Trees**"
   ]
  },
  {
   "cell_type": "code",
   "execution_count": 109,
   "metadata": {},
   "outputs": [
    {
     "name": "stdout",
     "output_type": "stream",
     "text": [
      "AUC for training data is  0.6536354675362888\n"
     ]
    }
   ],
   "source": [
    "gb = GradientBoostingClassifier()\n",
    "gb.fit(np.array(X_train), y_train.values) \n",
    "y_score = gb.predict_proba(np.array(X_train))[:,1]\n",
    "roc_auc = metrics.roc_auc_score(y_train.values, y_score)\n",
    "print(\"AUC for training data is \",roc_auc)\n",
    "    "
   ]
  },
  {
   "cell_type": "code",
   "execution_count": 233,
   "metadata": {},
   "outputs": [
    {
     "name": "stdout",
     "output_type": "stream",
     "text": [
      "AUC for fold  (0, 0.6219737557600193)\n",
      "AUC for fold  (1, 0.6335573417625133)\n",
      "AUC for fold  (2, 0.6458293016768595)\n",
      "AUC for fold  (3, 0.6359395941785666)\n",
      "AUC for fold  (4, 0.625339881795856)\n"
     ]
    },
    {
     "data": {
      "image/png": "[encoded data removed]",
      "text/plain": [
       "<Figure size 432x288 with 1 Axes>"
      ]
     },
     "metadata": {
      "needs_background": "light"
     },
     "output_type": "display_data"
    }
   ],
   "source": [
    "# Validation AUC\n",
    "model_validation(GradientBoostingClassifier(), X=np.array(X_train), y=y_train.values)"
   ]
  },
  {
   "cell_type": "code",
   "execution_count": 110,
   "metadata": {},
   "outputs": [
    {
     "name": "stdout",
     "output_type": "stream",
     "text": [
      "AUC for test data using Gradient Boosted Trees is  0.6215997154424748\n"
     ]
    }
   ],
   "source": [
    "# Test AUC\n",
    "y_score = gb.predict_proba(np.array(X_test))[:,1]\n",
    "roc_auc = metrics.roc_auc_score(y_test.values, y_score)\n",
    "print(\"AUC for test data using Gradient Boosted Trees is \",roc_auc)"
   ]
  },
  {
   "cell_type": "markdown",
   "metadata": {},
   "source": [
    "## Undersampling"
   ]
  },
  {
   "cell_type": "code",
   "execution_count": 111,
   "metadata": {},
   "outputs": [
    {
     "data": {
      "text/html": [
       "<div>\n",
       "<style scoped>\n",
       "    .dataframe tbody tr th:only-of-type {\n",
       "        vertical-align: middle;\n",
       "    }\n",
       "\n",
       "    .dataframe tbody tr th {\n",
       "        vertical-align: top;\n",
       "    }\n",
       "\n",
       "    .dataframe thead th {\n",
       "        text-align: right;\n",
       "    }\n",
       "</style>\n",
       "<table border=\"1\" class=\"dataframe\">\n",
       "  <thead>\n",
       "    <tr style=\"text-align: right;\">\n",
       "      <th></th>\n",
       "      <th>log_revol_bal</th>\n",
       "      <th>emp_length</th>\n",
       "      <th>dti</th>\n",
       "      <th>log_annual_inc</th>\n",
       "      <th>total_monthly_debt</th>\n",
       "      <th>age_credit</th>\n",
       "      <th>home_ownership_MORTGAGE</th>\n",
       "      <th>home_ownership_OTHER</th>\n",
       "      <th>home_ownership_OWN</th>\n",
       "      <th>home_ownership_RENT</th>\n",
       "      <th>...</th>\n",
       "      <th>purpose_house</th>\n",
       "      <th>purpose_major_purchase</th>\n",
       "      <th>purpose_medical</th>\n",
       "      <th>purpose_moving</th>\n",
       "      <th>purpose_other</th>\n",
       "      <th>purpose_renewable_energy</th>\n",
       "      <th>purpose_small_business</th>\n",
       "      <th>purpose_vacation</th>\n",
       "      <th>purpose_wedding</th>\n",
       "      <th>target</th>\n",
       "    </tr>\n",
       "  </thead>\n",
       "  <tbody>\n",
       "    <tr>\n",
       "      <th>123523</th>\n",
       "      <td>0.702494</td>\n",
       "      <td>1.175597</td>\n",
       "      <td>0.675305</td>\n",
       "      <td>-0.244893</td>\n",
       "      <td>0.107827</td>\n",
       "      <td>1.174608</td>\n",
       "      <td>1</td>\n",
       "      <td>0</td>\n",
       "      <td>0</td>\n",
       "      <td>0</td>\n",
       "      <td>...</td>\n",
       "      <td>0</td>\n",
       "      <td>0</td>\n",
       "      <td>0</td>\n",
       "      <td>0</td>\n",
       "      <td>0</td>\n",
       "      <td>0</td>\n",
       "      <td>0</td>\n",
       "      <td>0</td>\n",
       "      <td>0</td>\n",
       "      <td>0</td>\n",
       "    </tr>\n",
       "    <tr>\n",
       "      <th>10202</th>\n",
       "      <td>0.558919</td>\n",
       "      <td>-0.233232</td>\n",
       "      <td>-0.112920</td>\n",
       "      <td>-0.725983</td>\n",
       "      <td>-0.602918</td>\n",
       "      <td>0.793439</td>\n",
       "      <td>0</td>\n",
       "      <td>0</td>\n",
       "      <td>1</td>\n",
       "      <td>0</td>\n",
       "      <td>...</td>\n",
       "      <td>0</td>\n",
       "      <td>0</td>\n",
       "      <td>0</td>\n",
       "      <td>0</td>\n",
       "      <td>0</td>\n",
       "      <td>0</td>\n",
       "      <td>0</td>\n",
       "      <td>0</td>\n",
       "      <td>0</td>\n",
       "      <td>0</td>\n",
       "    </tr>\n",
       "    <tr>\n",
       "      <th>38144</th>\n",
       "      <td>-0.396799</td>\n",
       "      <td>0.612066</td>\n",
       "      <td>-0.000862</td>\n",
       "      <td>-0.163342</td>\n",
       "      <td>-0.227581</td>\n",
       "      <td>-1.188641</td>\n",
       "      <td>1</td>\n",
       "      <td>0</td>\n",
       "      <td>0</td>\n",
       "      <td>0</td>\n",
       "      <td>...</td>\n",
       "      <td>0</td>\n",
       "      <td>0</td>\n",
       "      <td>0</td>\n",
       "      <td>0</td>\n",
       "      <td>0</td>\n",
       "      <td>0</td>\n",
       "      <td>0</td>\n",
       "      <td>0</td>\n",
       "      <td>0</td>\n",
       "      <td>0</td>\n",
       "    </tr>\n",
       "    <tr>\n",
       "      <th>6630</th>\n",
       "      <td>-0.376332</td>\n",
       "      <td>-0.796763</td>\n",
       "      <td>-0.254265</td>\n",
       "      <td>-0.244893</td>\n",
       "      <td>-0.427228</td>\n",
       "      <td>0.336036</td>\n",
       "      <td>1</td>\n",
       "      <td>0</td>\n",
       "      <td>0</td>\n",
       "      <td>0</td>\n",
       "      <td>...</td>\n",
       "      <td>0</td>\n",
       "      <td>0</td>\n",
       "      <td>0</td>\n",
       "      <td>0</td>\n",
       "      <td>0</td>\n",
       "      <td>0</td>\n",
       "      <td>0</td>\n",
       "      <td>0</td>\n",
       "      <td>0</td>\n",
       "      <td>0</td>\n",
       "    </tr>\n",
       "    <tr>\n",
       "      <th>194522</th>\n",
       "      <td>0.802454</td>\n",
       "      <td>1.175597</td>\n",
       "      <td>-0.638827</td>\n",
       "      <td>1.397551</td>\n",
       "      <td>0.515107</td>\n",
       "      <td>0.412270</td>\n",
       "      <td>1</td>\n",
       "      <td>0</td>\n",
       "      <td>0</td>\n",
       "      <td>0</td>\n",
       "      <td>...</td>\n",
       "      <td>0</td>\n",
       "      <td>0</td>\n",
       "      <td>0</td>\n",
       "      <td>0</td>\n",
       "      <td>0</td>\n",
       "      <td>0</td>\n",
       "      <td>0</td>\n",
       "      <td>0</td>\n",
       "      <td>0</td>\n",
       "      <td>0</td>\n",
       "    </tr>\n",
       "  </tbody>\n",
       "</table>\n",
       "<p>5 rows × 28 columns</p>\n",
       "</div>"
      ],
      "text/plain": [
       "        log_revol_bal  emp_length       dti  log_annual_inc  \\\n",
       "123523       0.702494    1.175597  0.675305       -0.244893   \n",
       "10202        0.558919   -0.233232 -0.112920       -0.725983   \n",
       "38144       -0.396799    0.612066 -0.000862       -0.163342   \n",
       "6630        -0.376332   -0.796763 -0.254265       -0.244893   \n",
       "194522       0.802454    1.175597 -0.638827        1.397551   \n",
       "\n",
       "        total_monthly_debt  age_credit  home_ownership_MORTGAGE  \\\n",
       "123523            0.107827    1.174608                        1   \n",
       "10202            -0.602918    0.793439                        0   \n",
       "38144            -0.227581   -1.188641                        1   \n",
       "6630             -0.427228    0.336036                        1   \n",
       "194522            0.515107    0.412270                        1   \n",
       "\n",
       "        home_ownership_OTHER  home_ownership_OWN  home_ownership_RENT   ...    \\\n",
       "123523                     0                   0                    0   ...     \n",
       "10202                      0                   1                    0   ...     \n",
       "38144                      0                   0                    0   ...     \n",
       "6630                       0                   0                    0   ...     \n",
       "194522                     0                   0                    0   ...     \n",
       "\n",
       "        purpose_house  purpose_major_purchase  purpose_medical  \\\n",
       "123523              0                       0                0   \n",
       "10202               0                       0                0   \n",
       "38144               0                       0                0   \n",
       "6630                0                       0                0   \n",
       "194522              0                       0                0   \n",
       "\n",
       "        purpose_moving  purpose_other  purpose_renewable_energy  \\\n",
       "123523               0              0                         0   \n",
       "10202                0              0                         0   \n",
       "38144                0              0                         0   \n",
       "6630                 0              0                         0   \n",
       "194522               0              0                         0   \n",
       "\n",
       "        purpose_small_business  purpose_vacation  purpose_wedding  target  \n",
       "123523                       0                 0                0       0  \n",
       "10202                        0                 0                0       0  \n",
       "38144                        0                 0                0       0  \n",
       "6630                         0                 0                0       0  \n",
       "194522                       0                 0                0       0  \n",
       "\n",
       "[5 rows x 28 columns]"
      ]
     },
     "execution_count": 111,
     "metadata": {},
     "output_type": "execute_result"
    }
   ],
   "source": [
    "train = pd.concat([X_train, y_train], axis=1)\n",
    "train.head()"
   ]
  },
  {
   "cell_type": "code",
   "execution_count": 112,
   "metadata": {},
   "outputs": [],
   "source": [
    "# Create training data \n",
    "\n",
    "df_majority = train[train.target==0]\n",
    "df_minority = train[train.target==1]\n",
    " \n",
    "\n",
    "df_majority_downsampled = df_majority.sample(len(df_minority))\n",
    " \n",
    "# Combine majority class with upsampled minority class\n",
    "df_downsampled = pd.concat([df_minority, df_majority_downsampled])\n",
    " \n",
    "# Display new class counts\n",
    "df_downsampled.target.value_counts()\n",
    "y_train_downsampled = df_downsampled['target']\n",
    "X_train_downsampled = df_downsampled.drop('target', axis=1)"
   ]
  },
  {
   "cell_type": "markdown",
   "metadata": {},
   "source": [
    "**Logistic Regression**"
   ]
  },
  {
   "cell_type": "code",
   "execution_count": 114,
   "metadata": {},
   "outputs": [
    {
     "name": "stdout",
     "output_type": "stream",
     "text": [
      "AUC for training data using Logistic Regression -- Undersampling  0.6321157819107218\n"
     ]
    }
   ],
   "source": [
    "#training set\n",
    "lr = LogisticRegression(solver = 'lbfgs', max_iter= 2000) \n",
    "lr.fit(np.array(X_train_downsampled), y_train_downsampled.values) \n",
    "y_score = lr.predict_proba(np.array(X_train_downsampled))[:,1]\n",
    "roc_auc = metrics.roc_auc_score(y_train_downsampled.values, y_score)\n",
    "print(\"AUC for training data using Logistic Regression -- Undersampling \",roc_auc)\n",
    "\n"
   ]
  },
  {
   "cell_type": "code",
   "execution_count": 115,
   "metadata": {},
   "outputs": [
    {
     "name": "stdout",
     "output_type": "stream",
     "text": [
      "AUC for test data using Logistic Regression -- Undersampling 0.6185294280065738\n"
     ]
    }
   ],
   "source": [
    "y_score = lr.predict_proba(np.array(X_test))[:,1]\n",
    "roc_auc = metrics.roc_auc_score(y_test.values, y_score)\n",
    "print(\"AUC for test data using Logistic Regression -- Undersampling\",roc_auc)"
   ]
  },
  {
   "cell_type": "markdown",
   "metadata": {},
   "source": [
    "**Random Forest**"
   ]
  },
  {
   "cell_type": "code",
   "execution_count": 116,
   "metadata": {},
   "outputs": [
    {
     "name": "stdout",
     "output_type": "stream",
     "text": [
      "AUC for training data using Random Forests -- Undersampling  0.9999999824493087\n"
     ]
    }
   ],
   "source": [
    "rf = RandomForestClassifier(n_estimators = 40) \n",
    "rf.fit(np.array(X_train_downsampled), y_train_downsampled.values) \n",
    "y_score = rf.predict_proba(np.array(X_train_downsampled))[:,1]\n",
    "roc_auc = metrics.roc_auc_score(y_train_downsampled.values, y_score)\n",
    "print(\"AUC for training data using Random Forests -- Undersampling \",roc_auc)\n",
    "    "
   ]
  },
  {
   "cell_type": "code",
   "execution_count": 117,
   "metadata": {},
   "outputs": [
    {
     "name": "stdout",
     "output_type": "stream",
     "text": [
      "AUC for test data using Random Forests -- Undersampling  0.5766390560194701\n"
     ]
    }
   ],
   "source": [
    "y_score = rf.predict_proba(np.array(X_test))[:,1]\n",
    "roc_auc = metrics.roc_auc_score(y_test.values, y_score)\n",
    "print(\"AUC for test data using Random Forests -- Undersampling \",roc_auc)\n",
    "    "
   ]
  },
  {
   "cell_type": "markdown",
   "metadata": {},
   "source": [
    "## Oversampling"
   ]
  },
  {
   "cell_type": "code",
   "execution_count": 118,
   "metadata": {},
   "outputs": [],
   "source": [
    "df_majority = train[train.target==0]\n",
    "df_minority = train[train.target==1]\n",
    " \n",
    "df_minority_upsampled = df_minority.sample(len(df_majority), replace=True)\n",
    " \n",
    "# Combine majority class with upsampled minority class\n",
    "df_upsampled = pd.concat([df_majority, df_minority_upsampled])\n",
    " \n",
    "# Display new class counts\n",
    "df_upsampled.target.value_counts()\n",
    "\n",
    "\n",
    "y_train_upsampled = df_upsampled['target']\n",
    "X_train_upsampled = df_upsampled.drop('target', axis=1)"
   ]
  },
  {
   "cell_type": "markdown",
   "metadata": {},
   "source": [
    "**Logistic Regression**"
   ]
  },
  {
   "cell_type": "code",
   "execution_count": 119,
   "metadata": {},
   "outputs": [
    {
     "name": "stdout",
     "output_type": "stream",
     "text": [
      "AUC for training data using Logistic Regression -- Oversampling  0.6319877566091212\n"
     ]
    }
   ],
   "source": [
    "lr = LogisticRegression(solver = 'lbfgs', max_iter= 2000) \n",
    "lr.fit(np.array(X_train_upsampled), y_train_upsampled.values) \n",
    "y_score = lr.predict_proba(np.array(X_train_upsampled))[:,1]\n",
    "roc_auc = metrics.roc_auc_score(y_train_upsampled.values, y_score)\n",
    "print(\"AUC for training data using Logistic Regression -- Oversampling \",roc_auc)"
   ]
  },
  {
   "cell_type": "code",
   "execution_count": 120,
   "metadata": {},
   "outputs": [
    {
     "name": "stdout",
     "output_type": "stream",
     "text": [
      "AUC for test data using Logistic Regression -- Oversampling  0.6178577673484738\n"
     ]
    }
   ],
   "source": [
    "y_score = lr.predict_proba(np.array(X_test))[:,1]\n",
    "roc_auc = metrics.roc_auc_score(y_test.values, y_score)\n",
    "print(\"AUC for test data using Logistic Regression -- Oversampling \",roc_auc)"
   ]
  },
  {
   "cell_type": "markdown",
   "metadata": {},
   "source": [
    "**Random Forests**"
   ]
  },
  {
   "cell_type": "code",
   "execution_count": 121,
   "metadata": {},
   "outputs": [
    {
     "name": "stdout",
     "output_type": "stream",
     "text": [
      "AUC for training data using Random Forests -- Oversampling  0.9999999947595857\n"
     ]
    }
   ],
   "source": [
    "rf = RandomForestClassifier(n_estimators = 40) \n",
    "rf.fit(np.array(X_train_upsampled), y_train_upsampled.values) \n",
    "y_score = rf.predict_proba(np.array(X_train_upsampled))[:,1]\n",
    "roc_auc = metrics.roc_auc_score(y_train_upsampled.values, y_score)\n",
    "print(\"AUC for training data using Random Forests -- Oversampling \",roc_auc)"
   ]
  },
  {
   "cell_type": "code",
   "execution_count": 122,
   "metadata": {},
   "outputs": [
    {
     "name": "stdout",
     "output_type": "stream",
     "text": [
      "AUC for test data using Random Forests -- Oversampling  0.580001855534369\n"
     ]
    }
   ],
   "source": [
    "y_score = rf.predict_proba(np.array(X_test))[:,1]\n",
    "roc_auc = metrics.roc_auc_score(y_test.values, y_score)\n",
    "print(\"AUC for test data using Random Forests -- Oversampling \",roc_auc)"
   ]
  },
  {
   "cell_type": "markdown",
   "metadata": {},
   "source": [
    "**Gradient Boosted Trees**"
   ]
  },
  {
   "cell_type": "code",
   "execution_count": 123,
   "metadata": {},
   "outputs": [
    {
     "name": "stdout",
     "output_type": "stream",
     "text": [
      "AUC for training data using Gradient Boosted Tress -- Oversampling 0.6579519620740235\n"
     ]
    }
   ],
   "source": [
    "gb = GradientBoostingClassifier()\n",
    "gb.fit(np.array(X_train_upsampled), y_train_upsampled.values) \n",
    "y_score = gb.predict_proba(np.array(X_train_upsampled))[:,1]\n",
    "roc_auc = metrics.roc_auc_score(y_train_upsampled.values, y_score)\n",
    "print(\"AUC for training data using Gradient Boosted Tress -- Oversampling\",roc_auc)"
   ]
  },
  {
   "cell_type": "code",
   "execution_count": 124,
   "metadata": {},
   "outputs": [
    {
     "name": "stdout",
     "output_type": "stream",
     "text": [
      "AUC for test data using Gradient Boosted Tress -- Oversampling  0.6198980034466036\n"
     ]
    }
   ],
   "source": [
    "y_score = gb.predict_proba(np.array(X_test))[:,1]\n",
    "roc_auc = metrics.roc_auc_score(y_test.values, y_score)\n",
    "print(\"AUC for test data using Gradient Boosted Tress -- Oversampling \",roc_auc)"
   ]
  },
  {
   "cell_type": "markdown",
   "metadata": {},
   "source": [
    "## SMOTE (Synthetic data)"
   ]
  },
  {
   "cell_type": "code",
   "execution_count": 125,
   "metadata": {},
   "outputs": [],
   "source": [
    "from imblearn.over_sampling import SMOTE\n",
    "\n",
    "\n",
    "smote = SMOTE(ratio='minority')\n",
    "X_sm, y_sm = smote.fit_sample(X_train, y_train)"
   ]
  },
  {
   "cell_type": "markdown",
   "metadata": {},
   "source": [
    "**Random Forests**"
   ]
  },
  {
   "cell_type": "code",
   "execution_count": 126,
   "metadata": {},
   "outputs": [
    {
     "name": "stdout",
     "output_type": "stream",
     "text": [
      "AUC for training data is  1.0\n"
     ]
    }
   ],
   "source": [
    "rf = RandomForestClassifier(n_estimators = 80) \n",
    "rf.fit(X_sm, y_sm) \n",
    "y_score = rf.predict_proba(X_sm)[:,1]\n",
    "roc_auc = metrics.roc_auc_score(y_sm, y_score)\n",
    "print(\"AUC for training data is \",roc_auc)"
   ]
  },
  {
   "cell_type": "code",
   "execution_count": 127,
   "metadata": {},
   "outputs": [
    {
     "name": "stdout",
     "output_type": "stream",
     "text": [
      "AUC for test data is  0.5701551439065146\n"
     ]
    }
   ],
   "source": [
    "y_score = rf.predict_proba(np.array(X_test))[:,1]\n",
    "roc_auc = metrics.roc_auc_score(y_test.values, y_score)\n",
    "print(\"AUC for test data is \",roc_auc)"
   ]
  },
  {
   "cell_type": "markdown",
   "metadata": {},
   "source": [
    "**Gradient Boosted**"
   ]
  },
  {
   "cell_type": "code",
   "execution_count": 130,
   "metadata": {},
   "outputs": [
    {
     "name": "stdout",
     "output_type": "stream",
     "text": [
      "AUC for training data using Gradient Boosted Tress 0.8385784284602829\n"
     ]
    }
   ],
   "source": [
    "gb = GradientBoostingClassifier()\n",
    "gb.fit(X_sm, y_sm) \n",
    "y_score = gb.predict_proba(X_sm)[:,1]\n",
    "roc_auc = metrics.roc_auc_score(y_sm, y_score)\n",
    "print(\"AUC for training data using Gradient Boosted Tress\",roc_auc)"
   ]
  },
  {
   "cell_type": "code",
   "execution_count": 131,
   "metadata": {},
   "outputs": [
    {
     "name": "stdout",
     "output_type": "stream",
     "text": [
      "AUC for test data using Gradient Boosted Tress 0.6037471098388403\n"
     ]
    }
   ],
   "source": [
    "y_score = gb.predict_proba(np.array(X_test))[:,1]\n",
    "roc_auc = metrics.roc_auc_score(y_test.values, y_score)\n",
    "print(\"AUC for test data using Gradient Boosted Tress\",roc_auc)"
   ]
  }
 ],
 "metadata": {
  "kernelspec": {
   "display_name": "Python 3",
   "language": "python",
   "name": "python3"
  },
  "language_info": {
   "codemirror_mode": {
    "name": "ipython",
    "version": 3
   },
   "file_extension": ".py",
   "mimetype": "text/x-python",
   "name": "python",
   "nbconvert_exporter": "python",
   "pygments_lexer": "ipython3",
   "version": "3.7.1"
  }
 },
 "nbformat": 4,
 "nbformat_minor": 1
}
